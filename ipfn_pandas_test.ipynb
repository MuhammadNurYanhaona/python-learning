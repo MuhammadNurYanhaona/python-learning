{
 "cells": [
  {
   "cell_type": "code",
   "execution_count": 1,
   "id": "august-airfare",
   "metadata": {},
   "outputs": [],
   "source": [
    "from ipfn import ipfn;\n",
    "import pandas as pd;\n",
    "import numpy as np;\n",
    "\n"
   ]
  },
  {
   "cell_type": "code",
   "execution_count": 2,
   "id": "fresh-fundamental",
   "metadata": {},
   "outputs": [],
   "source": [
    "m      = np.array([1., 2., 1., 3., 5., 5., 6., 2., 2., 1., 7., 2.,\n",
    "               5., 4., 2., 5., 5., 5., 3., 8., 7., 2., 7., 6.], )\n"
   ]
  },
  {
   "cell_type": "code",
   "execution_count": 3,
   "id": "accredited-pasta",
   "metadata": {},
   "outputs": [
    {
     "name": "stdout",
     "output_type": "stream",
     "text": [
      "<class 'pandas.core.frame.DataFrame'>\n",
      "RangeIndex: 24 entries, 0 to 23\n",
      "Data columns (total 4 columns):\n",
      " #   Column  Non-Null Count  Dtype  \n",
      "---  ------  --------------  -----  \n",
      " 0   dma     24 non-null     int64  \n",
      " 1   size    24 non-null     int64  \n",
      " 2   age     24 non-null     object \n",
      " 3   total   24 non-null     float64\n",
      "dtypes: float64(1), int64(2), object(1)\n",
      "memory usage: 896.0+ bytes\n"
     ]
    }
   ],
   "source": [
    "dma_l  = [501, 501, 501, 501, 501, 501, 501, 501, 501, 501, 501, 501,\n",
    "          502, 502, 502, 502, 502, 502, 502, 502, 502, 502, 502, 502]\n",
    "\n",
    "size_l = [1, 1, 1, 2, 2, 2, 3, 3, 3, 4, 4, 4,\n",
    "          1, 1, 1, 2, 2, 2, 3, 3, 3, 4, 4, 4]\n",
    "\n",
    "age_l  = ['20-25','30-35','40-45',\n",
    "          '20-25','30-35','40-45',\n",
    "          '20-25','30-35','40-45',\n",
    "          '20-25','30-35','40-45',\n",
    "          '20-25','30-35','40-45',\n",
    "          '20-25','30-35','40-45',\n",
    "          '20-25','30-35','40-45',\n",
    "          '20-25','30-35','40-45']\n",
    "\n",
    "df = pd.DataFrame()\n",
    "df['dma'] = dma_l\n",
    "df['size'] = size_l\n",
    "df['age'] = age_l\n",
    "df['total'] = m\n",
    "\n",
    "df.info()"
   ]
  },
  {
   "cell_type": "code",
   "execution_count": 4,
   "id": "reliable-collection",
   "metadata": {},
   "outputs": [
    {
     "data": {
      "text/plain": [
       "(24, 4)"
      ]
     },
     "execution_count": 4,
     "metadata": {},
     "output_type": "execute_result"
    }
   ],
   "source": [
    "df.shape"
   ]
  },
  {
   "cell_type": "code",
   "execution_count": 5,
   "id": "steady-abortion",
   "metadata": {},
   "outputs": [
    {
     "data": {
      "text/html": [
       "<div>\n",
       "<style scoped>\n",
       "    .dataframe tbody tr th:only-of-type {\n",
       "        vertical-align: middle;\n",
       "    }\n",
       "\n",
       "    .dataframe tbody tr th {\n",
       "        vertical-align: top;\n",
       "    }\n",
       "\n",
       "    .dataframe thead th {\n",
       "        text-align: right;\n",
       "    }\n",
       "</style>\n",
       "<table border=\"1\" class=\"dataframe\">\n",
       "  <thead>\n",
       "    <tr style=\"text-align: right;\">\n",
       "      <th></th>\n",
       "      <th>dma</th>\n",
       "      <th>size</th>\n",
       "      <th>age</th>\n",
       "      <th>total</th>\n",
       "    </tr>\n",
       "  </thead>\n",
       "  <tbody>\n",
       "    <tr>\n",
       "      <th>0</th>\n",
       "      <td>501</td>\n",
       "      <td>1</td>\n",
       "      <td>20-25</td>\n",
       "      <td>1.0</td>\n",
       "    </tr>\n",
       "    <tr>\n",
       "      <th>1</th>\n",
       "      <td>501</td>\n",
       "      <td>1</td>\n",
       "      <td>30-35</td>\n",
       "      <td>2.0</td>\n",
       "    </tr>\n",
       "    <tr>\n",
       "      <th>2</th>\n",
       "      <td>501</td>\n",
       "      <td>1</td>\n",
       "      <td>40-45</td>\n",
       "      <td>1.0</td>\n",
       "    </tr>\n",
       "    <tr>\n",
       "      <th>3</th>\n",
       "      <td>501</td>\n",
       "      <td>2</td>\n",
       "      <td>20-25</td>\n",
       "      <td>3.0</td>\n",
       "    </tr>\n",
       "    <tr>\n",
       "      <th>4</th>\n",
       "      <td>501</td>\n",
       "      <td>2</td>\n",
       "      <td>30-35</td>\n",
       "      <td>5.0</td>\n",
       "    </tr>\n",
       "  </tbody>\n",
       "</table>\n",
       "</div>"
      ],
      "text/plain": [
       "   dma  size    age  total\n",
       "0  501     1  20-25    1.0\n",
       "1  501     1  30-35    2.0\n",
       "2  501     1  40-45    1.0\n",
       "3  501     2  20-25    3.0\n",
       "4  501     2  30-35    5.0"
      ]
     },
     "execution_count": 5,
     "metadata": {},
     "output_type": "execute_result"
    }
   ],
   "source": [
    "df.head()"
   ]
  },
  {
   "cell_type": "code",
   "execution_count": 6,
   "id": "controlling-measurement",
   "metadata": {},
   "outputs": [],
   "source": [
    "xipp = df.groupby('dma')['total'].sum()"
   ]
  },
  {
   "cell_type": "code",
   "execution_count": 7,
   "id": "romantic-discussion",
   "metadata": {},
   "outputs": [
    {
     "data": {
      "text/plain": [
       "dma\n",
       "501    37.0\n",
       "502    59.0\n",
       "Name: total, dtype: float64"
      ]
     },
     "execution_count": 7,
     "metadata": {},
     "output_type": "execute_result"
    }
   ],
   "source": [
    "xipp"
   ]
  },
  {
   "cell_type": "code",
   "execution_count": 8,
   "id": "german-slovakia",
   "metadata": {},
   "outputs": [
    {
     "data": {
      "text/plain": [
       "size\n",
       "1    15.0\n",
       "2    28.0\n",
       "3    28.0\n",
       "4    25.0\n",
       "Name: total, dtype: float64"
      ]
     },
     "execution_count": 8,
     "metadata": {},
     "output_type": "execute_result"
    }
   ],
   "source": [
    "xpjp = df.groupby('size')['total'].sum()\n",
    "xppk = df.groupby('age')['total'].sum()\n",
    "xijp = df.groupby(['dma', 'size'])['total'].sum()\n",
    "xpjk = df.groupby(['size', 'age'])['total'].sum()\n",
    "\n",
    "xpjp"
   ]
  },
  {
   "cell_type": "code",
   "execution_count": 9,
   "id": "effective-tanzania",
   "metadata": {},
   "outputs": [
    {
     "data": {
      "text/plain": [
       "dma  size\n",
       "501  1        4.0\n",
       "     2       13.0\n",
       "     3       10.0\n",
       "     4       10.0\n",
       "502  1       11.0\n",
       "     2       15.0\n",
       "     3       18.0\n",
       "     4       15.0\n",
       "Name: total, dtype: float64"
      ]
     },
     "execution_count": 9,
     "metadata": {},
     "output_type": "execute_result"
    }
   ],
   "source": [
    "xijp"
   ]
  },
  {
   "cell_type": "code",
   "execution_count": 10,
   "id": "suspected-therapy",
   "metadata": {},
   "outputs": [
    {
     "data": {
      "text/plain": [
       "age\n",
       "20-25    26.0\n",
       "30-35    40.0\n",
       "40-45    30.0\n",
       "Name: total, dtype: float64"
      ]
     },
     "execution_count": 10,
     "metadata": {},
     "output_type": "execute_result"
    }
   ],
   "source": [
    "xipp.loc[501] = 52\n",
    "xipp.loc[502] = 48\n",
    "\n",
    "xppk"
   ]
  },
  {
   "cell_type": "code",
   "execution_count": 11,
   "id": "purple-general",
   "metadata": {},
   "outputs": [],
   "source": [
    "xpjp.loc[1] = 20\n",
    "xpjp.loc[2] = 30\n",
    "xpjp.loc[3] = 35\n",
    "xpjp.loc[4] = 15\n",
    "\n",
    "xppk.loc['20-25'] = 35\n",
    "xppk.loc['30-35'] = 40\n",
    "xppk.loc['40-45'] = 25\n",
    "\n",
    "xijp.loc[501] = [9, 17, 19, 7]\n",
    "xijp.loc[502] = [11, 13, 16, 8]\n",
    "\n",
    "xpjk.loc[1] = [7, 9, 4]\n",
    "xpjk.loc[2] = [8, 12, 10]\n",
    "xpjk.loc[3] = [15, 12, 8]\n",
    "xpjk.loc[4] = [5, 7, 3]\n"
   ]
  },
  {
   "cell_type": "code",
   "execution_count": 12,
   "id": "medieval-daily",
   "metadata": {},
   "outputs": [],
   "source": [
    "aggregates = [xipp, xpjp, xppk, xijp, xpjk]\n",
    "dimensions = [['dma'], ['size'], ['age'], ['dma', 'size'], ['size', 'age']]\n"
   ]
  },
  {
   "cell_type": "code",
   "execution_count": 13,
   "id": "sound-sigma",
   "metadata": {},
   "outputs": [],
   "source": [
    "IPF = ipfn.ipfn(df, aggregates, dimensions)"
   ]
  },
  {
   "cell_type": "code",
   "execution_count": 15,
   "id": "compliant-eligibility",
   "metadata": {},
   "outputs": [
    {
     "name": "stdout",
     "output_type": "stream",
     "text": [
      "    dma  size    age  total\n",
      "0   501     1  20-25    1.0\n",
      "1   501     1  30-35    2.0\n",
      "2   501     1  40-45    1.0\n",
      "3   501     2  20-25    3.0\n",
      "4   501     2  30-35    5.0\n",
      "5   501     2  40-45    5.0\n",
      "6   501     3  20-25    6.0\n",
      "7   501     3  30-35    2.0\n",
      "8   501     3  40-45    2.0\n",
      "9   501     4  20-25    1.0\n",
      "10  501     4  30-35    7.0\n",
      "11  501     4  40-45    2.0\n",
      "12  502     1  20-25    5.0\n",
      "13  502     1  30-35    4.0\n",
      "14  502     1  40-45    2.0\n",
      "15  502     2  20-25    5.0\n",
      "16  502     2  30-35    5.0\n",
      "17  502     2  40-45    5.0\n",
      "18  502     3  20-25    3.0\n",
      "19  502     3  30-35    8.0\n",
      "20  502     3  40-45    7.0\n",
      "21  502     4  20-25    2.0\n",
      "22  502     4  30-35    7.0\n",
      "23  502     4  40-45    6.0\n",
      "size\n",
      "1    15.0\n",
      "2    28.0\n",
      "3    28.0\n",
      "4    25.0\n",
      "Name: total, dtype: float64 size\n",
      "1    20.0\n",
      "2    30.0\n",
      "3    35.0\n",
      "4    15.0\n",
      "Name: total, dtype: float64\n",
      "    size    age  dma      total\n",
      "0      1  20-25  501   2.155122\n",
      "1      1  20-25  502   4.844878\n",
      "2      1  30-35  501   4.738761\n",
      "3      1  30-35  502   4.261239\n",
      "4      1  40-45  501   2.106116\n",
      "5      1  40-45  502   1.893884\n",
      "6      2  20-25  501   3.792360\n",
      "7      2  20-25  502   4.207640\n",
      "8      2  30-35  501   7.204167\n",
      "9      2  30-35  502   4.795833\n",
      "10     2  40-45  501   6.003472\n",
      "11     2  40-45  502   3.996528\n",
      "12     3  20-25  501  12.031393\n",
      "13     3  20-25  502   2.968607\n",
      "14     3  30-35  501   4.035095\n",
      "15     3  30-35  502   7.964905\n",
      "16     3  40-45  501   2.933445\n",
      "17     3  40-45  502   5.066555\n",
      "18     4  20-25  501   2.026015\n",
      "19     4  20-25  502   2.973985\n",
      "20     4  30-35  501   4.037026\n",
      "21     4  30-35  502   2.962974\n",
      "22     4  40-45  501   0.936959\n",
      "23     4  40-45  502   2.063041\n",
      "size\n",
      "1    20.0\n",
      "2    30.0\n",
      "3    35.0\n",
      "4    15.0\n",
      "Name: total, dtype: float64 size\n",
      "1    20.0\n",
      "2    30.0\n",
      "3    35.0\n",
      "4    15.0\n",
      "Name: total, dtype: float64\n"
     ]
    }
   ],
   "source": [
    "print(df)\n",
    "print(df.groupby('size')['total'].sum(), xpjp)\n",
    "\n",
    "\n",
    "df = IPF.iteration()\n",
    "print(df)\n",
    "print(df.groupby('size')['total'].sum(), xpjp)"
   ]
  },
  {
   "cell_type": "code",
   "execution_count": null,
   "id": "functioning-exposure",
   "metadata": {},
   "outputs": [],
   "source": []
  }
 ],
 "metadata": {
  "kernelspec": {
   "display_name": "Python 3",
   "language": "python",
   "name": "python3"
  },
  "language_info": {
   "codemirror_mode": {
    "name": "ipython",
    "version": 3
   },
   "file_extension": ".py",
   "mimetype": "text/x-python",
   "name": "python",
   "nbconvert_exporter": "python",
   "pygments_lexer": "ipython3",
   "version": "3.9.1"
  }
 },
 "nbformat": 4,
 "nbformat_minor": 5
}
